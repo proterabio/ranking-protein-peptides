{
 "cells": [
  {
   "cell_type": "code",
   "execution_count": 1,
   "metadata": {},
   "outputs": [
    {
     "name": "stderr",
     "output_type": "stream",
     "text": [
      "/home/ubuntu/anaconda3/envs/char2024/lib/python3.8/site-packages/huggingface_hub/file_download.py:1150: FutureWarning: `resume_download` is deprecated and will be removed in version 1.0.0. Downloads always resume when possible. If you want to force a new download, use `force_download=True`.\n",
      "  warnings.warn(\n"
     ]
    },
    {
     "data": {
      "text/html": [
       "<div>\n",
       "<style scoped>\n",
       "    .dataframe tbody tr th:only-of-type {\n",
       "        vertical-align: middle;\n",
       "    }\n",
       "\n",
       "    .dataframe tbody tr th {\n",
       "        vertical-align: top;\n",
       "    }\n",
       "\n",
       "    .dataframe thead th {\n",
       "        text-align: right;\n",
       "    }\n",
       "</style>\n",
       "<table border=\"1\" class=\"dataframe\">\n",
       "  <thead>\n",
       "    <tr style=\"text-align: right;\">\n",
       "      <th></th>\n",
       "      <th>Unnamed: 0</th>\n",
       "      <th>Peptide_Experimental</th>\n",
       "      <th>IC50_uM</th>\n",
       "      <th>IC50_std</th>\n",
       "    </tr>\n",
       "  </thead>\n",
       "  <tbody>\n",
       "    <tr>\n",
       "      <th>0</th>\n",
       "      <td>0</td>\n",
       "      <td>DSRIWWV</td>\n",
       "      <td>0.9</td>\n",
       "      <td>0.1</td>\n",
       "    </tr>\n",
       "    <tr>\n",
       "      <th>1</th>\n",
       "      <td>1</td>\n",
       "      <td>DARIWWV</td>\n",
       "      <td>1.3</td>\n",
       "      <td>0.1</td>\n",
       "    </tr>\n",
       "    <tr>\n",
       "      <th>2</th>\n",
       "      <td>2</td>\n",
       "      <td>WDKIWHV</td>\n",
       "      <td>2.8</td>\n",
       "      <td>0.3</td>\n",
       "    </tr>\n",
       "    <tr>\n",
       "      <th>3</th>\n",
       "      <td>3</td>\n",
       "      <td>ASRIWWV</td>\n",
       "      <td>2.8</td>\n",
       "      <td>0.3</td>\n",
       "    </tr>\n",
       "    <tr>\n",
       "      <th>4</th>\n",
       "      <td>4</td>\n",
       "      <td>DSRIWAV</td>\n",
       "      <td>6.0</td>\n",
       "      <td>1.0</td>\n",
       "    </tr>\n",
       "    <tr>\n",
       "      <th>5</th>\n",
       "      <td>5</td>\n",
       "      <td>GWKTWIL</td>\n",
       "      <td>7.7</td>\n",
       "      <td>0.6</td>\n",
       "    </tr>\n",
       "    <tr>\n",
       "      <th>6</th>\n",
       "      <td>6</td>\n",
       "      <td>DSRAWVV</td>\n",
       "      <td>13.0</td>\n",
       "      <td>1.0</td>\n",
       "    </tr>\n",
       "    <tr>\n",
       "      <th>7</th>\n",
       "      <td>7</td>\n",
       "      <td>DIGPVCF</td>\n",
       "      <td>16.0</td>\n",
       "      <td>3.0</td>\n",
       "    </tr>\n",
       "    <tr>\n",
       "      <th>8</th>\n",
       "      <td>8</td>\n",
       "      <td>DIETWLL</td>\n",
       "      <td>23.0</td>\n",
       "      <td>3.0</td>\n",
       "    </tr>\n",
       "    <tr>\n",
       "      <th>9</th>\n",
       "      <td>9</td>\n",
       "      <td>EVKIMVV</td>\n",
       "      <td>24.0</td>\n",
       "      <td>8.0</td>\n",
       "    </tr>\n",
       "    <tr>\n",
       "      <th>10</th>\n",
       "      <td>10</td>\n",
       "      <td>DSRIAWV</td>\n",
       "      <td>40.0</td>\n",
       "      <td>5.0</td>\n",
       "    </tr>\n",
       "  </tbody>\n",
       "</table>\n",
       "</div>"
      ],
      "text/plain": [
       "    Unnamed: 0 Peptide_Experimental  IC50_uM  IC50_std\n",
       "0            0              DSRIWWV      0.9       0.1\n",
       "1            1              DARIWWV      1.3       0.1\n",
       "2            2              WDKIWHV      2.8       0.3\n",
       "3            3              ASRIWWV      2.8       0.3\n",
       "4            4              DSRIWAV      6.0       1.0\n",
       "5            5              GWKTWIL      7.7       0.6\n",
       "6            6              DSRAWVV     13.0       1.0\n",
       "7            7              DIGPVCF     16.0       3.0\n",
       "8            8              DIETWLL     23.0       3.0\n",
       "9            9              EVKIMVV     24.0       8.0\n",
       "10          10              DSRIAWV     40.0       5.0"
      ]
     },
     "execution_count": 1,
     "metadata": {},
     "output_type": "execute_result"
    }
   ],
   "source": [
    "from src.utils import *\n",
    "import pandas as pd\n",
    "from Bio.PDB import MMCIFParser\n",
    "import numpy as np\n",
    "\n",
    "#HTRA1 from uniprot\n",
    "HTRA1=\"MQIPRAALLPLLLLLLAAPASAQLSRAGRSAPLAAGCPDRCEPARCPPQPEHCEGGRARDACGCCEVCGAPEGAACGLQEGPCGEGLQCVVPFGVPASATVRRRAQAGLCVCASSEPVCGSDANTYANLCQLRAASRRSERLHRPPVIVLQRGACGQGQEDPNSLRHKYNFIADVVEKIAPAVVHIELFRKLPFSKREVPVASGSGFIVSEDGLIVTNAHVVTNKHRVKVELKNGATYEAKIKDVDEKADIALIKIDHQGKLPVLLLGRSSELRPGEFVVAIGSPFSLQNTVTTGIVSTTQRGGKELGLRNSDMDYIQTDAIINYGNSGGPLVNLDGEVIGINTLKVTAGISFAIPSDKIKKFLTESHDRQAKGKAITKKKYIGIRMMSLTSSKAKELKDRHRDFPDVISGAYIIEVIPDTPAEAGGLKENDVIISINGQSVVSANDVSDVIKRESTLNMVVRRGNEDIMITVIPEEIDP\"\n",
    "db=pd.read_csv(\"./data/HTRA1_peptides.csv\")\n",
    "\n",
    "db"
   ]
  },
  {
   "cell_type": "markdown",
   "metadata": {},
   "source": [
    "### Identify Reference peptide"
   ]
  },
  {
   "cell_type": "code",
   "execution_count": 2,
   "metadata": {},
   "outputs": [
    {
     "data": {
      "text/html": [
       "<div>\n",
       "<style scoped>\n",
       "    .dataframe tbody tr th:only-of-type {\n",
       "        vertical-align: middle;\n",
       "    }\n",
       "\n",
       "    .dataframe tbody tr th {\n",
       "        vertical-align: top;\n",
       "    }\n",
       "\n",
       "    .dataframe thead th {\n",
       "        text-align: right;\n",
       "    }\n",
       "</style>\n",
       "<table border=\"1\" class=\"dataframe\">\n",
       "  <thead>\n",
       "    <tr style=\"text-align: right;\">\n",
       "      <th></th>\n",
       "      <th>Unnamed: 0</th>\n",
       "      <th>Peptide_Experimental</th>\n",
       "      <th>IC50_uM</th>\n",
       "      <th>IC50_std</th>\n",
       "      <th>ESM2_initialLoss</th>\n",
       "    </tr>\n",
       "  </thead>\n",
       "  <tbody>\n",
       "    <tr>\n",
       "      <th>0</th>\n",
       "      <td>0</td>\n",
       "      <td>DSRIWWV</td>\n",
       "      <td>0.9</td>\n",
       "      <td>0.1</td>\n",
       "      <td>12.804563</td>\n",
       "    </tr>\n",
       "    <tr>\n",
       "      <th>1</th>\n",
       "      <td>1</td>\n",
       "      <td>DARIWWV</td>\n",
       "      <td>1.3</td>\n",
       "      <td>0.1</td>\n",
       "      <td>12.691013</td>\n",
       "    </tr>\n",
       "    <tr>\n",
       "      <th>2</th>\n",
       "      <td>2</td>\n",
       "      <td>WDKIWHV</td>\n",
       "      <td>2.8</td>\n",
       "      <td>0.3</td>\n",
       "      <td>12.703898</td>\n",
       "    </tr>\n",
       "    <tr>\n",
       "      <th>3</th>\n",
       "      <td>3</td>\n",
       "      <td>ASRIWWV</td>\n",
       "      <td>2.8</td>\n",
       "      <td>0.3</td>\n",
       "      <td>12.813797</td>\n",
       "    </tr>\n",
       "    <tr>\n",
       "      <th>4</th>\n",
       "      <td>4</td>\n",
       "      <td>DSRIWAV</td>\n",
       "      <td>6.0</td>\n",
       "      <td>1.0</td>\n",
       "      <td>12.854457</td>\n",
       "    </tr>\n",
       "    <tr>\n",
       "      <th>5</th>\n",
       "      <td>5</td>\n",
       "      <td>GWKTWIL</td>\n",
       "      <td>7.7</td>\n",
       "      <td>0.6</td>\n",
       "      <td>12.810143</td>\n",
       "    </tr>\n",
       "    <tr>\n",
       "      <th>6</th>\n",
       "      <td>6</td>\n",
       "      <td>DSRAWVV</td>\n",
       "      <td>13.0</td>\n",
       "      <td>1.0</td>\n",
       "      <td>12.865527</td>\n",
       "    </tr>\n",
       "    <tr>\n",
       "      <th>7</th>\n",
       "      <td>7</td>\n",
       "      <td>DIGPVCF</td>\n",
       "      <td>16.0</td>\n",
       "      <td>3.0</td>\n",
       "      <td>12.856627</td>\n",
       "    </tr>\n",
       "    <tr>\n",
       "      <th>8</th>\n",
       "      <td>8</td>\n",
       "      <td>DIETWLL</td>\n",
       "      <td>23.0</td>\n",
       "      <td>3.0</td>\n",
       "      <td>12.699419</td>\n",
       "    </tr>\n",
       "    <tr>\n",
       "      <th>9</th>\n",
       "      <td>9</td>\n",
       "      <td>EVKIMVV</td>\n",
       "      <td>24.0</td>\n",
       "      <td>8.0</td>\n",
       "      <td>12.755946</td>\n",
       "    </tr>\n",
       "    <tr>\n",
       "      <th>10</th>\n",
       "      <td>10</td>\n",
       "      <td>DSRIAWV</td>\n",
       "      <td>40.0</td>\n",
       "      <td>5.0</td>\n",
       "      <td>12.845757</td>\n",
       "    </tr>\n",
       "  </tbody>\n",
       "</table>\n",
       "</div>"
      ],
      "text/plain": [
       "    Unnamed: 0 Peptide_Experimental  IC50_uM  IC50_std  ESM2_initialLoss\n",
       "0            0              DSRIWWV      0.9       0.1         12.804563\n",
       "1            1              DARIWWV      1.3       0.1         12.691013\n",
       "2            2              WDKIWHV      2.8       0.3         12.703898\n",
       "3            3              ASRIWWV      2.8       0.3         12.813797\n",
       "4            4              DSRIWAV      6.0       1.0         12.854457\n",
       "5            5              GWKTWIL      7.7       0.6         12.810143\n",
       "6            6              DSRAWVV     13.0       1.0         12.865527\n",
       "7            7              DIGPVCF     16.0       3.0         12.856627\n",
       "8            8              DIETWLL     23.0       3.0         12.699419\n",
       "9            9              EVKIMVV     24.0       8.0         12.755946\n",
       "10          10              DSRIAWV     40.0       5.0         12.845757"
      ]
     },
     "execution_count": 2,
     "metadata": {},
     "output_type": "execute_result"
    }
   ],
   "source": [
    "db['ESM2_initialLoss'] = db['Peptide_Experimental'].apply(lambda peptide: compute_mlm_overall_withoutTheMaskedPos(HTRA1, peptide, [], []))\n",
    "# db['ESM2_initialLoss'] = db['Peptide_Experimental'].apply(lambda peptide: compute_mlm_overall(HTRA1, peptide, [], []))\n",
    "db"
   ]
  },
  {
   "cell_type": "code",
   "execution_count": 3,
   "metadata": {},
   "outputs": [
    {
     "data": {
      "text/plain": [
       "'DARIWWV'"
      ]
     },
     "execution_count": 3,
     "metadata": {},
     "output_type": "execute_result"
    }
   ],
   "source": [
    "min_index = db['ESM2_initialLoss'].idxmin()\n",
    "reference_peptide = db.loc[min_index, 'Peptide_Experimental']\n",
    "reference_peptide"
   ]
  },
  {
   "cell_type": "markdown",
   "metadata": {},
   "source": [
    "### Get the binding affinity "
   ]
  },
  {
   "cell_type": "code",
   "execution_count": 4,
   "metadata": {},
   "outputs": [
    {
     "name": "stdout",
     "output_type": "stream",
     "text": [
      "DARIWWV DSRIWWV [1]\n",
      "DARIWWV DARIWWV []\n",
      "DARIWWV WDKIWHV [0 1 2 5]\n",
      "DARIWWV ASRIWWV [0 1]\n",
      "DARIWWV DSRIWAV [1 5]\n",
      "DARIWWV GWKTWIL [0 1 2 3 5 6]\n",
      "DARIWWV DSRAWVV [1 3 5]\n",
      "DARIWWV DIGPVCF [1 2 3 4 5 6]\n",
      "DARIWWV DIETWLL [1 2 3 5 6]\n",
      "DARIWWV EVKIMVV [0 1 2 4 5]\n",
      "DARIWWV DSRIAWV [1 4]\n"
     ]
    },
    {
     "data": {
      "text/html": [
       "<div>\n",
       "<style scoped>\n",
       "    .dataframe tbody tr th:only-of-type {\n",
       "        vertical-align: middle;\n",
       "    }\n",
       "\n",
       "    .dataframe tbody tr th {\n",
       "        vertical-align: top;\n",
       "    }\n",
       "\n",
       "    .dataframe thead th {\n",
       "        text-align: right;\n",
       "    }\n",
       "</style>\n",
       "<table border=\"1\" class=\"dataframe\">\n",
       "  <thead>\n",
       "    <tr style=\"text-align: right;\">\n",
       "      <th></th>\n",
       "      <th>Unnamed: 0</th>\n",
       "      <th>Peptide_Experimental</th>\n",
       "      <th>IC50_uM</th>\n",
       "      <th>IC50_std</th>\n",
       "      <th>ESM2_initialLoss</th>\n",
       "      <th>ESM2_ppi_score_overall</th>\n",
       "    </tr>\n",
       "  </thead>\n",
       "  <tbody>\n",
       "    <tr>\n",
       "      <th>0</th>\n",
       "      <td>0</td>\n",
       "      <td>DSRIWWV</td>\n",
       "      <td>0.9</td>\n",
       "      <td>0.1</td>\n",
       "      <td>12.804563</td>\n",
       "      <td>12.681170</td>\n",
       "    </tr>\n",
       "    <tr>\n",
       "      <th>1</th>\n",
       "      <td>1</td>\n",
       "      <td>DARIWWV</td>\n",
       "      <td>1.3</td>\n",
       "      <td>0.1</td>\n",
       "      <td>12.691013</td>\n",
       "      <td>12.691013</td>\n",
       "    </tr>\n",
       "    <tr>\n",
       "      <th>2</th>\n",
       "      <td>2</td>\n",
       "      <td>WDKIWHV</td>\n",
       "      <td>2.8</td>\n",
       "      <td>0.3</td>\n",
       "      <td>12.703898</td>\n",
       "      <td>12.747519</td>\n",
       "    </tr>\n",
       "    <tr>\n",
       "      <th>3</th>\n",
       "      <td>3</td>\n",
       "      <td>ASRIWWV</td>\n",
       "      <td>2.8</td>\n",
       "      <td>0.3</td>\n",
       "      <td>12.813797</td>\n",
       "      <td>12.687531</td>\n",
       "    </tr>\n",
       "    <tr>\n",
       "      <th>4</th>\n",
       "      <td>4</td>\n",
       "      <td>DSRIWAV</td>\n",
       "      <td>6.0</td>\n",
       "      <td>1.0</td>\n",
       "      <td>12.854457</td>\n",
       "      <td>12.723074</td>\n",
       "    </tr>\n",
       "    <tr>\n",
       "      <th>5</th>\n",
       "      <td>5</td>\n",
       "      <td>GWKTWIL</td>\n",
       "      <td>7.7</td>\n",
       "      <td>0.6</td>\n",
       "      <td>12.810143</td>\n",
       "      <td>12.771887</td>\n",
       "    </tr>\n",
       "    <tr>\n",
       "      <th>6</th>\n",
       "      <td>6</td>\n",
       "      <td>DSRAWVV</td>\n",
       "      <td>13.0</td>\n",
       "      <td>1.0</td>\n",
       "      <td>12.865527</td>\n",
       "      <td>12.736728</td>\n",
       "    </tr>\n",
       "    <tr>\n",
       "      <th>7</th>\n",
       "      <td>7</td>\n",
       "      <td>DIGPVCF</td>\n",
       "      <td>16.0</td>\n",
       "      <td>3.0</td>\n",
       "      <td>12.856627</td>\n",
       "      <td>12.795417</td>\n",
       "    </tr>\n",
       "    <tr>\n",
       "      <th>8</th>\n",
       "      <td>8</td>\n",
       "      <td>DIETWLL</td>\n",
       "      <td>23.0</td>\n",
       "      <td>3.0</td>\n",
       "      <td>12.699419</td>\n",
       "      <td>12.764093</td>\n",
       "    </tr>\n",
       "    <tr>\n",
       "      <th>9</th>\n",
       "      <td>9</td>\n",
       "      <td>EVKIMVV</td>\n",
       "      <td>24.0</td>\n",
       "      <td>8.0</td>\n",
       "      <td>12.755946</td>\n",
       "      <td>12.791503</td>\n",
       "    </tr>\n",
       "    <tr>\n",
       "      <th>10</th>\n",
       "      <td>10</td>\n",
       "      <td>DSRIAWV</td>\n",
       "      <td>40.0</td>\n",
       "      <td>5.0</td>\n",
       "      <td>12.845757</td>\n",
       "      <td>12.717290</td>\n",
       "    </tr>\n",
       "  </tbody>\n",
       "</table>\n",
       "</div>"
      ],
      "text/plain": [
       "    Unnamed: 0 Peptide_Experimental  IC50_uM  IC50_std  ESM2_initialLoss  \\\n",
       "0            0              DSRIWWV      0.9       0.1         12.804563   \n",
       "1            1              DARIWWV      1.3       0.1         12.691013   \n",
       "2            2              WDKIWHV      2.8       0.3         12.703898   \n",
       "3            3              ASRIWWV      2.8       0.3         12.813797   \n",
       "4            4              DSRIWAV      6.0       1.0         12.854457   \n",
       "5            5              GWKTWIL      7.7       0.6         12.810143   \n",
       "6            6              DSRAWVV     13.0       1.0         12.865527   \n",
       "7            7              DIGPVCF     16.0       3.0         12.856627   \n",
       "8            8              DIETWLL     23.0       3.0         12.699419   \n",
       "9            9              EVKIMVV     24.0       8.0         12.755946   \n",
       "10          10              DSRIAWV     40.0       5.0         12.845757   \n",
       "\n",
       "    ESM2_ppi_score_overall  \n",
       "0                12.681170  \n",
       "1                12.691013  \n",
       "2                12.747519  \n",
       "3                12.687531  \n",
       "4                12.723074  \n",
       "5                12.771887  \n",
       "6                12.736728  \n",
       "7                12.795417  \n",
       "8                12.764093  \n",
       "9                12.791503  \n",
       "10               12.717290  "
      ]
     },
     "execution_count": 4,
     "metadata": {},
     "output_type": "execute_result"
    }
   ],
   "source": [
    "def compute_results(row):\n",
    "    peptide = row['Peptide_Experimental']\n",
    "    HTRA_positions = [] \n",
    "    pep_positions = np.array(find_differences(reference_peptide, peptide)) \n",
    "    print(reference_peptide, peptide, pep_positions)\n",
    "    # return compute_mlm_overall(HTRA1, reference_peptide, HTRA_positions, pep_positions)\n",
    "    return compute_mlm_overall_withoutTheMaskedPos(HTRA1, reference_peptide, HTRA_positions, pep_positions)\n",
    "\n",
    "db['ESM2_ppi_score_overall'] = db.apply(compute_results, axis=1)\n",
    "db"
   ]
  },
  {
   "cell_type": "code",
   "execution_count": 5,
   "metadata": {},
   "outputs": [
    {
     "data": {
      "image/png": "[encoded data removed]",
      "text/plain": [
       "<Figure size 1000x600 with 1 Axes>"
      ]
     },
     "metadata": {},
     "output_type": "display_data"
    }
   ],
   "source": [
    "db['ESM2_Rank'] = db['ESM2_ppi_score_overall'].rank(ascending=True) \n",
    "db['IC50_Rank'] = db['IC50_uM'].rank(ascending=True) \n",
    "\n",
    "\n",
    "plt.figure(figsize=(10, 6))\n",
    "for _, row in db.iterrows():\n",
    "    plt.plot([1, 2], [row['IC50_Rank'], row['ESM2_Rank']], '-o', label=row['Peptide_Experimental'])\n",
    "\n",
    "plt.xticks([1, 2], ['IC50 Ranking (Experimentals)', 'ESM2 Ranking'])\n",
    "plt.gca().invert_yaxis()  # Invert y-axis so that lower ranks appear higher\n",
    "plt.ylabel('Rank')\n",
    "plt.title('Change in Sequence Ranking Between IC50  (experimental) and ESM2')\n",
    "plt.legend(title=\"Sequences\", bbox_to_anchor=(1.05, 1), loc='upper left')\n",
    "plt.tight_layout()\n",
    "plt.show()"
   ]
  },
  {
   "cell_type": "code",
   "execution_count": 6,
   "metadata": {},
   "outputs": [
    {
     "name": "stdout",
     "output_type": "stream",
     "text": [
      "IC50 [ 1.   2.   3.5  3.5  5.   6.   7.   8.   9.  10.  11. ]\n",
      "ESM2 [12.68117046 12.69101334 12.74751854 12.68753147 12.72307396 12.77188683\n",
      " 12.73672771 12.79541683 12.7640934  12.79150295 12.71728992]\n"
     ]
    },
    {
     "data": {
      "text/plain": [
       "0.921824230188584"
      ]
     },
     "execution_count": 6,
     "metadata": {},
     "output_type": "execute_result"
    }
   ],
   "source": [
    "from sklearn.metrics import ndcg_score\n",
    "print(\"IC50\",db[\"IC50_Rank\"].values)\n",
    "print(\"ESM2\",db['ESM2_ppi_score_overall'].values)\n",
    "ndcg_score([db[\"IC50_Rank\"].values], [db[\"ESM2_ppi_score_overall\"].values])"
   ]
  },
  {
   "cell_type": "code",
   "execution_count": 7,
   "metadata": {},
   "outputs": [
    {
     "data": {
      "text/plain": [
       "0.7784689084391242"
      ]
     },
     "execution_count": 7,
     "metadata": {},
     "output_type": "execute_result"
    }
   ],
   "source": [
    "ndcg_score([db[\"IC50_uM\"].values], [db[\"ESM2_ppi_score_overall\"].values])"
   ]
  },
  {
   "cell_type": "code",
   "execution_count": 8,
   "metadata": {},
   "outputs": [
    {
     "name": "stdout",
     "output_type": "stream",
     "text": [
      "[ 1  2  3  3  5  6  7  8  9 10 11]\n",
      "[ 1  3  7  2  5  9  6 11  8 10  4]\n",
      "Kendall's Tau: 0.48\n",
      "P-value: 0.0423\n"
     ]
    }
   ],
   "source": [
    "from scipy.stats import kendalltau\n",
    "print(db['IC50_Rank'].values.astype(int))\n",
    "print(db['ESM2_Rank'].values.astype(int))\n",
    "# Calculate Kendall's Tau\n",
    "tau, p_value = kendalltau(db['IC50_Rank'].values.astype(int), db['ESM2_Rank'].values.astype(int))\n",
    "\n",
    "print(f\"Kendall's Tau: {tau:.2f}\")\n",
    "print(f\"P-value: {p_value:.4f}\")"
   ]
  }
 ],
 "metadata": {
  "kernelspec": {
   "display_name": "Python 3.8.18 ('char2024')",
   "language": "python",
   "name": "python3"
  },
  "language_info": {
   "codemirror_mode": {
    "name": "ipython",
    "version": 3
   },
   "file_extension": ".py",
   "mimetype": "text/x-python",
   "name": "python",
   "nbconvert_exporter": "python",
   "pygments_lexer": "ipython3",
   "version": "3.8.18"
  },
  "orig_nbformat": 4,
  "vscode": {
   "interpreter": {
    "hash": "6c8c777c4fccb68d206b7deb44c54cf2c8e36462e878f234f097411b4b4ff8a3"
   }
  }
 },
 "nbformat": 4,
 "nbformat_minor": 2
}
