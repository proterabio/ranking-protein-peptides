{
 "cells": [
  {
   "cell_type": "code",
   "execution_count": 1,
   "metadata": {},
   "outputs": [
    {
     "name": "stderr",
     "output_type": "stream",
     "text": [
      "/home/ubuntu/anaconda3/envs/char2024/lib/python3.8/site-packages/huggingface_hub/file_download.py:1150: FutureWarning: `resume_download` is deprecated and will be removed in version 1.0.0. Downloads always resume when possible. If you want to force a new download, use `force_download=True`.\n",
      "  warnings.warn(\n"
     ]
    },
    {
     "data": {
      "text/html": [
       "<div>\n",
       "<style scoped>\n",
       "    .dataframe tbody tr th:only-of-type {\n",
       "        vertical-align: middle;\n",
       "    }\n",
       "\n",
       "    .dataframe tbody tr th {\n",
       "        vertical-align: top;\n",
       "    }\n",
       "\n",
       "    .dataframe thead th {\n",
       "        text-align: right;\n",
       "    }\n",
       "</style>\n",
       "<table border=\"1\" class=\"dataframe\">\n",
       "  <thead>\n",
       "    <tr style=\"text-align: right;\">\n",
       "      <th></th>\n",
       "      <th>Unnamed: 0</th>\n",
       "      <th>Peptide_Experimental</th>\n",
       "      <th>IC50_uM</th>\n",
       "      <th>New_Delta_G_kcal/mol_Experimental</th>\n",
       "    </tr>\n",
       "  </thead>\n",
       "  <tbody>\n",
       "    <tr>\n",
       "      <th>0</th>\n",
       "      <td>0</td>\n",
       "      <td>FGRWV</td>\n",
       "      <td>0.6</td>\n",
       "      <td>-7.5</td>\n",
       "    </tr>\n",
       "    <tr>\n",
       "      <th>1</th>\n",
       "      <td>1</td>\n",
       "      <td>RSWWV</td>\n",
       "      <td>0.6</td>\n",
       "      <td>-7.4</td>\n",
       "    </tr>\n",
       "    <tr>\n",
       "      <th>2</th>\n",
       "      <td>2</td>\n",
       "      <td>FGAWV</td>\n",
       "      <td>0.9</td>\n",
       "      <td>-7.7</td>\n",
       "    </tr>\n",
       "    <tr>\n",
       "      <th>3</th>\n",
       "      <td>3</td>\n",
       "      <td>FGRWI</td>\n",
       "      <td>1.0</td>\n",
       "      <td>-7.5</td>\n",
       "    </tr>\n",
       "    <tr>\n",
       "      <th>4</th>\n",
       "      <td>4</td>\n",
       "      <td>FARWV</td>\n",
       "      <td>1.1</td>\n",
       "      <td>-6.4</td>\n",
       "    </tr>\n",
       "    <tr>\n",
       "      <th>5</th>\n",
       "      <td>5</td>\n",
       "      <td>FGRWL</td>\n",
       "      <td>2.9</td>\n",
       "      <td>-6.6</td>\n",
       "    </tr>\n",
       "    <tr>\n",
       "      <th>6</th>\n",
       "      <td>6</td>\n",
       "      <td>FGRWA</td>\n",
       "      <td>3.5</td>\n",
       "      <td>-7.1</td>\n",
       "    </tr>\n",
       "    <tr>\n",
       "      <th>7</th>\n",
       "      <td>7</td>\n",
       "      <td>FGRWF</td>\n",
       "      <td>7.7</td>\n",
       "      <td>-7.3</td>\n",
       "    </tr>\n",
       "    <tr>\n",
       "      <th>8</th>\n",
       "      <td>8</td>\n",
       "      <td>FGRAV</td>\n",
       "      <td>270.0</td>\n",
       "      <td>-6.9</td>\n",
       "    </tr>\n",
       "  </tbody>\n",
       "</table>\n",
       "</div>"
      ],
      "text/plain": [
       "   Unnamed: 0 Peptide_Experimental  IC50_uM  New_Delta_G_kcal/mol_Experimental\n",
       "0           0                FGRWV      0.6                               -7.5\n",
       "1           1                RSWWV      0.6                               -7.4\n",
       "2           2                FGAWV      0.9                               -7.7\n",
       "3           3                FGRWI      1.0                               -7.5\n",
       "4           4                FARWV      1.1                               -6.4\n",
       "5           5                FGRWL      2.9                               -6.6\n",
       "6           6                FGRWA      3.5                               -7.1\n",
       "7           7                FGRWF      7.7                               -7.3\n",
       "8           8                FGRAV    270.0                               -6.9"
      ]
     },
     "execution_count": 1,
     "metadata": {},
     "output_type": "execute_result"
    }
   ],
   "source": [
    "from src.utils import *\n",
    "import pandas as pd\n",
    "from Bio.PDB import MMCIFParser\n",
    "import numpy as np\n",
    "\n",
    "#HTRA3 from uniprot\n",
    "HTRA3=\"MQARALLLAALAALALAREPPAAPCPARCDVSRCPSPRCPGGYVPDLCNCCLVCAASEGEPCGGPLDSPCGESLECVRGLCRCRWSHAVCGTDGHTYANVCALQAASRRALQLSGTPVRQLQKGACPLGLHQLSSPRYKFNFIADVVEKIAPAVVHIELFLRHPLFGRNVPLSSGSGFIMSEAGLIITNAHVVSSNSAAPGRQQLKVQLQNGDSYEATIKDIDKKSDIATIKIHPKKKLPVLLLGHSADLRPGEFVVAIGSPFALQNTVTTGIVSTAQREGRELGLRDSDMDYIQTDAIINYGNSGGPLVNLDGEVIGINTLKVTAGISFAIPSDRITRFLTEFQDKQIKDWKKRFIGIRMRTITPSLVDELKASNPDFPEVSSGIYVQEVAPNSPSQRGGIQDGDIIVKVNGRPLVDSSELQEAVLTESPLLLEVRRGNDDLLFSIAPEVVM\"\n",
    "db=pd.read_csv(\"./data/HTRA3_peptides.csv\")\n",
    "\n",
    "db"
   ]
  },
  {
   "cell_type": "markdown",
   "metadata": {},
   "source": [
    "### Identify Reference peptide"
   ]
  },
  {
   "cell_type": "code",
   "execution_count": 2,
   "metadata": {},
   "outputs": [
    {
     "data": {
      "text/html": [
       "<div>\n",
       "<style scoped>\n",
       "    .dataframe tbody tr th:only-of-type {\n",
       "        vertical-align: middle;\n",
       "    }\n",
       "\n",
       "    .dataframe tbody tr th {\n",
       "        vertical-align: top;\n",
       "    }\n",
       "\n",
       "    .dataframe thead th {\n",
       "        text-align: right;\n",
       "    }\n",
       "</style>\n",
       "<table border=\"1\" class=\"dataframe\">\n",
       "  <thead>\n",
       "    <tr style=\"text-align: right;\">\n",
       "      <th></th>\n",
       "      <th>Unnamed: 0</th>\n",
       "      <th>Peptide_Experimental</th>\n",
       "      <th>IC50_uM</th>\n",
       "      <th>New_Delta_G_kcal/mol_Experimental</th>\n",
       "      <th>ESM2_initialLoss</th>\n",
       "    </tr>\n",
       "  </thead>\n",
       "  <tbody>\n",
       "    <tr>\n",
       "      <th>0</th>\n",
       "      <td>0</td>\n",
       "      <td>FGRWV</td>\n",
       "      <td>0.6</td>\n",
       "      <td>-7.5</td>\n",
       "      <td>13.592473</td>\n",
       "    </tr>\n",
       "    <tr>\n",
       "      <th>1</th>\n",
       "      <td>1</td>\n",
       "      <td>RSWWV</td>\n",
       "      <td>0.6</td>\n",
       "      <td>-7.4</td>\n",
       "      <td>13.562987</td>\n",
       "    </tr>\n",
       "    <tr>\n",
       "      <th>2</th>\n",
       "      <td>2</td>\n",
       "      <td>FGAWV</td>\n",
       "      <td>0.9</td>\n",
       "      <td>-7.7</td>\n",
       "      <td>13.613234</td>\n",
       "    </tr>\n",
       "    <tr>\n",
       "      <th>3</th>\n",
       "      <td>3</td>\n",
       "      <td>FGRWI</td>\n",
       "      <td>1.0</td>\n",
       "      <td>-7.5</td>\n",
       "      <td>13.574132</td>\n",
       "    </tr>\n",
       "    <tr>\n",
       "      <th>4</th>\n",
       "      <td>4</td>\n",
       "      <td>FARWV</td>\n",
       "      <td>1.1</td>\n",
       "      <td>-6.4</td>\n",
       "      <td>13.564548</td>\n",
       "    </tr>\n",
       "    <tr>\n",
       "      <th>5</th>\n",
       "      <td>5</td>\n",
       "      <td>FGRWL</td>\n",
       "      <td>2.9</td>\n",
       "      <td>-6.6</td>\n",
       "      <td>13.580356</td>\n",
       "    </tr>\n",
       "    <tr>\n",
       "      <th>6</th>\n",
       "      <td>6</td>\n",
       "      <td>FGRWA</td>\n",
       "      <td>3.5</td>\n",
       "      <td>-7.1</td>\n",
       "      <td>13.607949</td>\n",
       "    </tr>\n",
       "    <tr>\n",
       "      <th>7</th>\n",
       "      <td>7</td>\n",
       "      <td>FGRWF</td>\n",
       "      <td>7.7</td>\n",
       "      <td>-7.3</td>\n",
       "      <td>13.568269</td>\n",
       "    </tr>\n",
       "    <tr>\n",
       "      <th>8</th>\n",
       "      <td>8</td>\n",
       "      <td>FGRAV</td>\n",
       "      <td>270.0</td>\n",
       "      <td>-6.9</td>\n",
       "      <td>13.645667</td>\n",
       "    </tr>\n",
       "  </tbody>\n",
       "</table>\n",
       "</div>"
      ],
      "text/plain": [
       "   Unnamed: 0 Peptide_Experimental  IC50_uM  \\\n",
       "0           0                FGRWV      0.6   \n",
       "1           1                RSWWV      0.6   \n",
       "2           2                FGAWV      0.9   \n",
       "3           3                FGRWI      1.0   \n",
       "4           4                FARWV      1.1   \n",
       "5           5                FGRWL      2.9   \n",
       "6           6                FGRWA      3.5   \n",
       "7           7                FGRWF      7.7   \n",
       "8           8                FGRAV    270.0   \n",
       "\n",
       "   New_Delta_G_kcal/mol_Experimental  ESM2_initialLoss  \n",
       "0                               -7.5         13.592473  \n",
       "1                               -7.4         13.562987  \n",
       "2                               -7.7         13.613234  \n",
       "3                               -7.5         13.574132  \n",
       "4                               -6.4         13.564548  \n",
       "5                               -6.6         13.580356  \n",
       "6                               -7.1         13.607949  \n",
       "7                               -7.3         13.568269  \n",
       "8                               -6.9         13.645667  "
      ]
     },
     "execution_count": 2,
     "metadata": {},
     "output_type": "execute_result"
    }
   ],
   "source": [
    "db['ESM2_initialLoss'] = db['Peptide_Experimental'].apply(lambda peptide: compute_mlm_overall_withoutTheMaskedPos(HTRA3, peptide, [], []))\n",
    "# db['ESM2_initialLoss'] = db['Peptide_Experimental'].apply(lambda peptide: compute_mlm_overall(HTRA1, peptide, [], []))\n",
    "db"
   ]
  },
  {
   "cell_type": "code",
   "execution_count": 3,
   "metadata": {},
   "outputs": [
    {
     "data": {
      "text/plain": [
       "'RSWWV'"
      ]
     },
     "execution_count": 3,
     "metadata": {},
     "output_type": "execute_result"
    }
   ],
   "source": [
    "min_index = db['ESM2_initialLoss'].idxmin()\n",
    "reference_peptide = db.loc[min_index, 'Peptide_Experimental']\n",
    "reference_peptide"
   ]
  },
  {
   "cell_type": "markdown",
   "metadata": {},
   "source": [
    "### Get the binding affinity "
   ]
  },
  {
   "cell_type": "code",
   "execution_count": 5,
   "metadata": {},
   "outputs": [
    {
     "name": "stdout",
     "output_type": "stream",
     "text": [
      "RSWWV FGRWV [0 1 2]\n",
      "RSWWV RSWWV []\n",
      "RSWWV FGAWV [0 1 2]\n",
      "RSWWV FGRWI [0 1 2 4]\n",
      "RSWWV FARWV [0 1 2]\n",
      "RSWWV FGRWL [0 1 2 4]\n",
      "RSWWV FGRWA [0 1 2 4]\n",
      "RSWWV FGRWF [0 1 2 4]\n",
      "RSWWV FGRAV [0 1 2 3]\n"
     ]
    },
    {
     "data": {
      "text/html": [
       "<div>\n",
       "<style scoped>\n",
       "    .dataframe tbody tr th:only-of-type {\n",
       "        vertical-align: middle;\n",
       "    }\n",
       "\n",
       "    .dataframe tbody tr th {\n",
       "        vertical-align: top;\n",
       "    }\n",
       "\n",
       "    .dataframe thead th {\n",
       "        text-align: right;\n",
       "    }\n",
       "</style>\n",
       "<table border=\"1\" class=\"dataframe\">\n",
       "  <thead>\n",
       "    <tr style=\"text-align: right;\">\n",
       "      <th></th>\n",
       "      <th>Unnamed: 0</th>\n",
       "      <th>Peptide_Experimental</th>\n",
       "      <th>IC50_uM</th>\n",
       "      <th>New_Delta_G_kcal/mol_Experimental</th>\n",
       "      <th>ESM2_initialLoss</th>\n",
       "      <th>ESM2_ppi_score_overall</th>\n",
       "    </tr>\n",
       "  </thead>\n",
       "  <tbody>\n",
       "    <tr>\n",
       "      <th>0</th>\n",
       "      <td>0</td>\n",
       "      <td>FGRWV</td>\n",
       "      <td>0.6</td>\n",
       "      <td>-7.5</td>\n",
       "      <td>13.592473</td>\n",
       "      <td>13.593760</td>\n",
       "    </tr>\n",
       "    <tr>\n",
       "      <th>1</th>\n",
       "      <td>1</td>\n",
       "      <td>RSWWV</td>\n",
       "      <td>0.6</td>\n",
       "      <td>-7.4</td>\n",
       "      <td>13.562987</td>\n",
       "      <td>13.562987</td>\n",
       "    </tr>\n",
       "    <tr>\n",
       "      <th>2</th>\n",
       "      <td>2</td>\n",
       "      <td>FGAWV</td>\n",
       "      <td>0.9</td>\n",
       "      <td>-7.7</td>\n",
       "      <td>13.613234</td>\n",
       "      <td>13.593760</td>\n",
       "    </tr>\n",
       "    <tr>\n",
       "      <th>3</th>\n",
       "      <td>3</td>\n",
       "      <td>FGRWI</td>\n",
       "      <td>1.0</td>\n",
       "      <td>-7.5</td>\n",
       "      <td>13.574132</td>\n",
       "      <td>13.605514</td>\n",
       "    </tr>\n",
       "    <tr>\n",
       "      <th>4</th>\n",
       "      <td>4</td>\n",
       "      <td>FARWV</td>\n",
       "      <td>1.1</td>\n",
       "      <td>-6.4</td>\n",
       "      <td>13.564548</td>\n",
       "      <td>13.593760</td>\n",
       "    </tr>\n",
       "    <tr>\n",
       "      <th>5</th>\n",
       "      <td>5</td>\n",
       "      <td>FGRWL</td>\n",
       "      <td>2.9</td>\n",
       "      <td>-6.6</td>\n",
       "      <td>13.580356</td>\n",
       "      <td>13.605514</td>\n",
       "    </tr>\n",
       "    <tr>\n",
       "      <th>6</th>\n",
       "      <td>6</td>\n",
       "      <td>FGRWA</td>\n",
       "      <td>3.5</td>\n",
       "      <td>-7.1</td>\n",
       "      <td>13.607949</td>\n",
       "      <td>13.605514</td>\n",
       "    </tr>\n",
       "    <tr>\n",
       "      <th>7</th>\n",
       "      <td>7</td>\n",
       "      <td>FGRWF</td>\n",
       "      <td>7.7</td>\n",
       "      <td>-7.3</td>\n",
       "      <td>13.568269</td>\n",
       "      <td>13.605514</td>\n",
       "    </tr>\n",
       "    <tr>\n",
       "      <th>8</th>\n",
       "      <td>8</td>\n",
       "      <td>FGRAV</td>\n",
       "      <td>270.0</td>\n",
       "      <td>-6.9</td>\n",
       "      <td>13.645667</td>\n",
       "      <td>13.642647</td>\n",
       "    </tr>\n",
       "  </tbody>\n",
       "</table>\n",
       "</div>"
      ],
      "text/plain": [
       "   Unnamed: 0 Peptide_Experimental  IC50_uM  \\\n",
       "0           0                FGRWV      0.6   \n",
       "1           1                RSWWV      0.6   \n",
       "2           2                FGAWV      0.9   \n",
       "3           3                FGRWI      1.0   \n",
       "4           4                FARWV      1.1   \n",
       "5           5                FGRWL      2.9   \n",
       "6           6                FGRWA      3.5   \n",
       "7           7                FGRWF      7.7   \n",
       "8           8                FGRAV    270.0   \n",
       "\n",
       "   New_Delta_G_kcal/mol_Experimental  ESM2_initialLoss  ESM2_ppi_score_overall  \n",
       "0                               -7.5         13.592473               13.593760  \n",
       "1                               -7.4         13.562987               13.562987  \n",
       "2                               -7.7         13.613234               13.593760  \n",
       "3                               -7.5         13.574132               13.605514  \n",
       "4                               -6.4         13.564548               13.593760  \n",
       "5                               -6.6         13.580356               13.605514  \n",
       "6                               -7.1         13.607949               13.605514  \n",
       "7                               -7.3         13.568269               13.605514  \n",
       "8                               -6.9         13.645667               13.642647  "
      ]
     },
     "execution_count": 5,
     "metadata": {},
     "output_type": "execute_result"
    }
   ],
   "source": [
    "def compute_results(row):\n",
    "    peptide = row['Peptide_Experimental']\n",
    "    HTRA_positions = [] \n",
    "    pep_positions = np.array(find_differences(reference_peptide, peptide)) \n",
    "    print(reference_peptide, peptide, pep_positions)\n",
    "    # return compute_mlm_overall(HTRA1, reference_peptide, HTRA_positions, pep_positions)\n",
    "    return compute_mlm_overall_withoutTheMaskedPos(HTRA3, reference_peptide, HTRA_positions, pep_positions)\n",
    "\n",
    "db['ESM2_ppi_score_overall'] = db.apply(compute_results, axis=1)\n",
    "db"
   ]
  },
  {
   "cell_type": "code",
   "execution_count": 6,
   "metadata": {},
   "outputs": [
    {
     "data": {
      "image/png": "[encoded data removed]",
      "text/plain": [
       "<Figure size 1000x600 with 1 Axes>"
      ]
     },
     "metadata": {},
     "output_type": "display_data"
    }
   ],
   "source": [
    "db['ESM2_Rank'] = db['ESM2_ppi_score_overall'].rank(ascending=True) \n",
    "db['IC50_Rank'] = db['IC50_uM'].rank(ascending=True) \n",
    "\n",
    "\n",
    "plt.figure(figsize=(10, 6))\n",
    "for _, row in db.iterrows():\n",
    "    plt.plot([1, 2], [row['IC50_Rank'], row['ESM2_Rank']], '-o', label=row['Peptide_Experimental'])\n",
    "\n",
    "plt.xticks([1, 2], ['IC50 Ranking (Experimentals)', 'ESM2 Ranking'])\n",
    "plt.gca().invert_yaxis()  # Invert y-axis so that lower ranks appear higher\n",
    "plt.ylabel('Rank')\n",
    "plt.title('Change in Sequence Ranking Between IC50  (experimental) and ESM2')\n",
    "plt.legend(title=\"Sequences\", bbox_to_anchor=(1.05, 1), loc='upper left')\n",
    "plt.tight_layout()\n",
    "plt.show()"
   ]
  },
  {
   "cell_type": "code",
   "execution_count": 7,
   "metadata": {},
   "outputs": [
    {
     "name": "stdout",
     "output_type": "stream",
     "text": [
      "IC50 [1.5 1.5 3.  4.  5.  6.  7.  8.  9. ]\n",
      "ESM2 [13.59375954 13.56298733 13.59375954 13.60551357 13.59375954 13.60551357\n",
      " 13.60551357 13.60551357 13.64264679]\n"
     ]
    },
    {
     "data": {
      "text/plain": [
       "0.9762583907456084"
      ]
     },
     "execution_count": 7,
     "metadata": {},
     "output_type": "execute_result"
    }
   ],
   "source": [
    "from sklearn.metrics import ndcg_score\n",
    "print(\"IC50\",db[\"IC50_Rank\"].values)\n",
    "print(\"ESM2\",db['ESM2_ppi_score_overall'].values)\n",
    "ndcg_score([db[\"IC50_Rank\"].values], [db[\"ESM2_ppi_score_overall\"].values])"
   ]
  },
  {
   "cell_type": "code",
   "execution_count": 8,
   "metadata": {},
   "outputs": [
    {
     "data": {
      "text/plain": [
       "0.9967716463315809"
      ]
     },
     "execution_count": 8,
     "metadata": {},
     "output_type": "execute_result"
    }
   ],
   "source": [
    "ndcg_score([db[\"IC50_uM\"].values], [db[\"ESM2_ppi_score_overall\"].values])"
   ]
  },
  {
   "cell_type": "code",
   "execution_count": 9,
   "metadata": {},
   "outputs": [
    {
     "name": "stdout",
     "output_type": "stream",
     "text": [
      "[1 1 3 4 5 6 7 8 9]\n",
      "[3 1 3 6 3 6 6 6 9]\n",
      "Kendall's Tau: 0.78\n",
      "P-value: 0.0069\n"
     ]
    }
   ],
   "source": [
    "from scipy.stats import kendalltau\n",
    "print(db['IC50_Rank'].values.astype(int))\n",
    "print(db['ESM2_Rank'].values.astype(int))\n",
    "# Calculate Kendall's Tau\n",
    "tau, p_value = kendalltau(db['IC50_Rank'].values.astype(int), db['ESM2_Rank'].values.astype(int))\n",
    "\n",
    "print(f\"Kendall's Tau: {tau:.2f}\")\n",
    "print(f\"P-value: {p_value:.4f}\")"
   ]
  }
 ],
 "metadata": {
  "kernelspec": {
   "display_name": "Python 3.8.18 ('char2024')",
   "language": "python",
   "name": "python3"
  },
  "language_info": {
   "codemirror_mode": {
    "name": "ipython",
    "version": 3
   },
   "file_extension": ".py",
   "mimetype": "text/x-python",
   "name": "python",
   "nbconvert_exporter": "python",
   "pygments_lexer": "ipython3",
   "version": "3.8.18"
  },
  "orig_nbformat": 4,
  "vscode": {
   "interpreter": {
    "hash": "6c8c777c4fccb68d206b7deb44c54cf2c8e36462e878f234f097411b4b4ff8a3"
   }
  }
 },
 "nbformat": 4,
 "nbformat_minor": 2
}
